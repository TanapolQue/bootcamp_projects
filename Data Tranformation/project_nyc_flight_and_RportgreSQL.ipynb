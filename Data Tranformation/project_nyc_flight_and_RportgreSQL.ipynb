{
 "cells":[
  {
   "cell_type":"markdown",
   "source":[
    
   ],
   "attachments":{
    
   },
   "metadata":{
    "datalore":{
     "node_id":"6J1qT2r10WtMIh3whBImA8",
     "type":"MD",
     "hide_input_from_viewers":false,
     "hide_output_from_viewers":false,
     "report_properties":{
      
     }
    }
   }
  },
  {
   "cell_type":"markdown",
   "source":[
    "# Homework: NYC flights 2013 Analysis\n",
    " "
   ],
   "attachments":{
    
   },
   "metadata":{
    "datalore":{
     "node_id":"6msKOf0XnN3X4EyXj4BKLu",
     "type":"MD",
     "hide_input_from_viewers":false,
     "hide_output_from_viewers":false,
     "report_properties":{
      
     }
    }
   }
  },
  {
   "cell_type":"markdown",
   "source":[
    "# Install packages and Load library"
   ],
   "attachments":{
    
   },
   "metadata":{
    "datalore":{
     "node_id":"dzlVZNre4EFscR1rEgIAjh",
     "type":"MD",
     "hide_input_from_viewers":false,
     "hide_output_from_viewers":false,
     "report_properties":{
      
     }
    }
   }
  },
  {
   "cell_type":"code",
   "source":[
    "install.packages(\"nycflights13\")"
   ],
   "execution_count":4,
   "outputs":[
    {
     "name":"stderr",
     "text":[
      "Updating HTML index of packages in '.Library'\n",
      "\n",
      "Making 'packages.html' ...\n",
      " done\n",
      "\n"
     ],
     "output_type":"stream"
    }
   ],
   "metadata":{
    "datalore":{
     "node_id":"hmpo7i4jKLV15uGQNBghsE",
     "type":"CODE",
     "hide_input_from_viewers":false,
     "hide_output_from_viewers":false,
     "report_properties":{
      
     }
    }
   }
  },
  {
   "cell_type":"code",
   "source":[
    "library(dplyr)"
   ],
   "execution_count":5,
   "outputs":[
    
   ],
   "metadata":{
    "datalore":{
     "node_id":"OGpZJTVudGZ2NUn5sVyOHp",
     "type":"CODE",
     "hide_input_from_viewers":false,
     "hide_output_from_viewers":false,
     "report_properties":{
      
     }
    }
   }
  },
  {
   "cell_type":"code",
   "source":[
    "library(nycflights13)"
   ],
   "execution_count":6,
   "outputs":[
    
   ],
   "metadata":{
    "datalore":{
     "node_id":"xmfX05JLvn4B1nSfot0F4s",
     "type":"CODE",
     "hide_input_from_viewers":false,
     "hide_output_from_viewers":false,
     "report_properties":{
      
     }
    }
   }
  },
  {
   "cell_type":"markdown",
   "source":[
    "# preview data "
   ],
   "attachments":{
    
   },
   "metadata":{
    "datalore":{
     "node_id":"D7mTdFYblAJRSGMRk584Vg",
     "type":"MD",
     "hide_input_from_viewers":false,
     "hide_output_from_viewers":false,
     "report_properties":{
      
     }
    }
   }
  },
  {
   "cell_type":"code",
   "source":[
    "glimpse(flights)\n",
    "glimpse(airlines)\n",
    "glimpse(airports)"
   ],
   "execution_count":7,
   "outputs":[
    {
     "name":"stdout",
     "text":[
      "Rows: 336,776\n",
      "Columns: 19\n",
      "$ year           \u001b[3m\u001b[90m<int>\u001b[39m\u001b[23m 2013, 2013, 2013, 2013, 2013, 2013, 2013, 2013, 2013, 2…\n",
      "$ month          \u001b[3m\u001b[90m<int>\u001b[39m\u001b[23m 1, 1, 1, 1, 1, 1, 1, 1, 1, 1, 1, 1, 1, 1, 1, 1, 1, 1, 1…\n",
      "$ day            \u001b[3m\u001b[90m<int>\u001b[39m\u001b[23m 1, 1, 1, 1, 1, 1, 1, 1, 1, 1, 1, 1, 1, 1, 1, 1, 1, 1, 1…\n",
      "$ dep_time       \u001b[3m\u001b[90m<int>\u001b[39m\u001b[23m 517, 533, 542, 544, 554, 554, 555, 557, 557, 558, 558, …\n",
      "$ sched_dep_time \u001b[3m\u001b[90m<int>\u001b[39m\u001b[23m 515, 529, 540, 545, 600, 558, 600, 600, 600, 600, 600, …\n",
      "$ dep_delay      \u001b[3m\u001b[90m<dbl>\u001b[39m\u001b[23m 2, 4, 2, -1, -6, -4, -5, -3, -3, -2, -2, -2, -2, -2, -1…\n",
      "$ arr_time       \u001b[3m\u001b[90m<int>\u001b[39m\u001b[23m 830, 850, 923, 1004, 812, 740, 913, 709, 838, 753, 849,…\n",
      "$ sched_arr_time \u001b[3m\u001b[90m<int>\u001b[39m\u001b[23m 819, 830, 850, 1022, 837, 728, 854, 723, 846, 745, 851,…\n",
      "$ arr_delay      \u001b[3m\u001b[90m<dbl>\u001b[39m\u001b[23m 11, 20, 33, -18, -25, 12, 19, -14, -8, 8, -2, -3, 7, -1…\n",
      "$ carrier        \u001b[3m\u001b[90m<chr>\u001b[39m\u001b[23m \"UA\", \"UA\", \"AA\", \"B6\", \"DL\", \"UA\", \"B6\", \"EV\", \"B6\", \"…\n",
      "$ flight         \u001b[3m\u001b[90m<int>\u001b[39m\u001b[23m 1545, 1714, 1141, 725, 461, 1696, 507, 5708, 79, 301, 4…\n",
      "$ tailnum        \u001b[3m\u001b[90m<chr>\u001b[39m\u001b[23m \"N14228\", \"N24211\", \"N619AA\", \"N804JB\", \"N668DN\", \"N394…\n",
      "$ origin         \u001b[3m\u001b[90m<chr>\u001b[39m\u001b[23m \"EWR\", \"LGA\", \"JFK\", \"JFK\", \"LGA\", \"EWR\", \"EWR\", \"LGA\",…\n",
      "$ dest           \u001b[3m\u001b[90m<chr>\u001b[39m\u001b[23m \"IAH\", \"IAH\", \"MIA\", \"BQN\", \"ATL\", \"ORD\", \"FLL\", \"IAD\",…\n",
      "$ air_time       \u001b[3m\u001b[90m<dbl>\u001b[39m\u001b[23m 227, 227, 160, 183, 116, 150, 158, 53, 140, 138, 149, 1…\n",
      "$ distance       \u001b[3m\u001b[90m<dbl>\u001b[39m\u001b[23m 1400, 1416, 1089, 1576, 762, 719, 1065, 229, 944, 733, …\n",
      "$ hour           \u001b[3m\u001b[90m<dbl>\u001b[39m\u001b[23m 5, 5, 5, 5, 6, 5, 6, 6, 6, 6, 6, 6, 6, 6, 6, 5, 6, 6, 6…\n",
      "$ minute         \u001b[3m\u001b[90m<dbl>\u001b[39m\u001b[23m 15, 29, 40, 45, 0, 58, 0, 0, 0, 0, 0, 0, 0, 0, 0, 59, 0…\n",
      "$ time_hour      \u001b[3m\u001b[90m<dttm>\u001b[39m\u001b[23m 2013-01-01 10:00:00, 2013-01-01 10:00:00, 2013-01-01 1…\n",
      "Rows: 16\n",
      "Columns: 2\n",
      "$ carrier \u001b[3m\u001b[90m<chr>\u001b[39m\u001b[23m \"9E\", \"AA\", \"AS\", \"B6\", \"DL\", \"EV\", \"F9\", \"FL\", \"HA\", \"MQ\", \"O…\n",
      "$ name    \u001b[3m\u001b[90m<chr>\u001b[39m\u001b[23m \"Endeavor Air Inc.\", \"American Airlines Inc.\", \"Alaska Airline…\n",
      "Rows: 1,458\n",
      "Columns: 8\n",
      "$ faa   \u001b[3m\u001b[90m<chr>\u001b[39m\u001b[23m \"04G\", \"06A\", \"06C\", \"06N\", \"09J\", \"0A9\", \"0G6\", \"0G7\", \"0P2\", \"…\n",
      "$ name  \u001b[3m\u001b[90m<chr>\u001b[39m\u001b[23m \"Lansdowne Airport\", \"Moton Field Municipal Airport\", \"Schaumbur…\n",
      "$ lat   \u001b[3m\u001b[90m<dbl>\u001b[39m\u001b[23m 41.13047, 32.46057, 41.98934, 41.43191, 31.07447, 36.37122, 41.4…\n",
      "$ lon   \u001b[3m\u001b[90m<dbl>\u001b[39m\u001b[23m -80.61958, -85.68003, -88.10124, -74.39156, -81.42778, -82.17342…\n",
      "$ alt   \u001b[3m\u001b[90m<dbl>\u001b[39m\u001b[23m 1044, 264, 801, 523, 11, 1593, 730, 492, 1000, 108, 409, 875, 10…\n",
      "$ tz    \u001b[3m\u001b[90m<dbl>\u001b[39m\u001b[23m -5, -6, -6, -5, -5, -5, -5, -5, -5, -8, -5, -6, -5, -5, -5, -5, …\n",
      "$ dst   \u001b[3m\u001b[90m<chr>\u001b[39m\u001b[23m \"A\", \"A\", \"A\", \"A\", \"A\", \"A\", \"A\", \"A\", \"U\", \"A\", \"A\", \"U\", \"A\",…\n",
      "$ tzone \u001b[3m\u001b[90m<chr>\u001b[39m\u001b[23m \"America\/New_York\", \"America\/Chicago\", \"America\/Chicago\", \"Ameri…\n"
     ],
     "output_type":"stream"
    }
   ],
   "metadata":{
    "datalore":{
     "node_id":"05wLz5hl733dzyzhJpg40Z",
     "type":"CODE",
     "hide_input_from_viewers":false,
     "hide_output_from_viewers":false,
     "report_properties":{
      
     }
    }
   }
  },
  {
   "cell_type":"markdown",
   "source":[
    "# Q1: What carriers that flight did arrival delay on 08 July 2013?"
   ],
   "attachments":{
    
   },
   "metadata":{
    "datalore":{
     "node_id":"GT809OPlpkAlxAIeIxbLKs",
     "type":"MD",
     "hide_input_from_viewers":false,
     "hide_output_from_viewers":false,
     "report_properties":{
      
     }
    }
   }
  },
  {
   "cell_type":"code",
   "source":[
    "carrier_delay <- flights  %>%\n",
    "  filter(month == 7 & year == 2013 & day == 8) %>%\n",
    "  filter(arr_delay > 0) %>%\n",
    "  count(carrier) %>%\n",
    "  arrange(desc(n)) %>%\n",
    "  rename(n_flights_arr_delay = n) %>%\n",
    "  left_join(airlines, by = \"carrier\")\n",
    "\n",
    "carrier_delay %>%\n",
    "  select(carrier, name, n_flights_arr_delay) %>%\n",
    "  rename(carrier_name = name) "
   ],
   "execution_count":8,
   "outputs":[
    {
     "data":{
      "text\/html":[
       "<table class=\"dataframe\">\n",
       "<caption>A tibble: 14 × 3<\/caption>\n",
       "<thead>\n",
       "\t<tr><th scope=col>carrier<\/th><th scope=col>carrier_name<\/th><th scope=col>n_flights_arr_delay<\/th><\/tr>\n",
       "\t<tr><th scope=col>&lt;chr&gt;<\/th><th scope=col>&lt;chr&gt;<\/th><th scope=col>&lt;int&gt;<\/th><\/tr>\n",
       "<\/thead>\n",
       "<tbody>\n",
       "\t<tr><td>B6<\/td><td>JetBlue Airways            <\/td><td>103<\/td><\/tr>\n",
       "\t<tr><td>EV<\/td><td>ExpressJet Airlines Inc.   <\/td><td> 96<\/td><\/tr>\n",
       "\t<tr><td>UA<\/td><td>United Air Lines Inc.      <\/td><td> 92<\/td><\/tr>\n",
       "\t<tr><td>DL<\/td><td>Delta Air Lines Inc.       <\/td><td> 65<\/td><\/tr>\n",
       "\t<tr><td>MQ<\/td><td>Envoy Air                  <\/td><td> 50<\/td><\/tr>\n",
       "\t<tr><td>AA<\/td><td>American Airlines Inc.     <\/td><td> 33<\/td><\/tr>\n",
       "\t<tr><td>9E<\/td><td>Endeavor Air Inc.          <\/td><td> 32<\/td><\/tr>\n",
       "\t<tr><td>US<\/td><td>US Airways Inc.            <\/td><td> 32<\/td><\/tr>\n",
       "\t<tr><td>WN<\/td><td>Southwest Airlines Co.     <\/td><td> 23<\/td><\/tr>\n",
       "\t<tr><td>VX<\/td><td>Virgin America             <\/td><td> 12<\/td><\/tr>\n",
       "\t<tr><td>FL<\/td><td>AirTran Airways Corporation<\/td><td>  4<\/td><\/tr>\n",
       "\t<tr><td>AS<\/td><td>Alaska Airlines Inc.       <\/td><td>  1<\/td><\/tr>\n",
       "\t<tr><td>F9<\/td><td>Frontier Airlines Inc.     <\/td><td>  1<\/td><\/tr>\n",
       "\t<tr><td>YV<\/td><td>Mesa Airlines Inc.         <\/td><td>  1<\/td><\/tr>\n",
       "<\/tbody>\n",
       "<\/table>\n"
      ]
     },
     "metadata":{
      
     },
     "output_type":"display_data"
    }
   ],
   "metadata":{
    "datalore":{
     "node_id":"1rQbX1sjlFiomr3a9AP7kk",
     "type":"CODE",
     "hide_input_from_viewers":false,
     "hide_output_from_viewers":false,
     "report_properties":{
      
     }
    }
   }
  },
  {
   "cell_type":"markdown",
   "source":[
    "# Q2: What is the route's longest and shortest distance?"
   ],
   "attachments":{
    
   },
   "metadata":{
    "datalore":{
     "node_id":"rBDdLewPkBqOf47vb4Od39",
     "type":"MD",
     "hide_input_from_viewers":false,
     "hide_output_from_viewers":false,
     "report_properties":{
      
     }
    }
   }
  },
  {
   "cell_type":"code",
   "source":[
    "## Create dataframes of airports for full name origin and dest.\n",
    "\n",
    "airports_for_origin <- airports %>%\n",
    "  select(faa,  name) %>%\n",
    "  rename(origin = faa,\n",
    "         origin_name = name)\n",
    "\n",
    "airports_for_dest <- airports %>%\n",
    "  select(faa,  name) %>%\n",
    "  rename(dest = faa,\n",
    "         dest_name = name)\n",
    "  \n",
    "## Long\n",
    "\n",
    "long_route <- flights %>%\n",
    "  select(origin, dest, distance) %>%\n",
    "  left_join(airports_for_origin, by = \"origin\") %>%\n",
    "  left_join(airports_for_dest, by = \"dest\") %>%\n",
    "  arrange(desc(distance)) %>%\n",
    "  head(1) \n",
    "\n",
    "long_route <- long_route %>%\n",
    "  select(origin_name, dest_name, distance)\n",
    "\n",
    "## Short\n",
    "\n",
    "short_route <- flights %>%\n",
    "  select(origin, dest, distance) %>%\n",
    "  left_join(airports_for_origin, by = \"origin\") %>%\n",
    "  left_join(airports_for_dest, by = \"dest\") %>%\n",
    "  arrange(desc(distance)) %>%\n",
    "  tail(1)\n",
    "\n",
    "short_route <- short_route %>%\n",
    "  select(origin_name, dest_name, distance)\n",
    "  \n",
    "  \n",
    "## Bind_row dataframe\n",
    "\n",
    "route <- list(short_route, long_route)\n",
    "bind_rows(route)"
   ],
   "execution_count":9,
   "outputs":[
    {
     "data":{
      "text\/html":[
       "<table class=\"dataframe\">\n",
       "<caption>A tibble: 2 × 3<\/caption>\n",
       "<thead>\n",
       "\t<tr><th scope=col>origin_name<\/th><th scope=col>dest_name<\/th><th scope=col>distance<\/th><\/tr>\n",
       "\t<tr><th scope=col>&lt;chr&gt;<\/th><th scope=col>&lt;chr&gt;<\/th><th scope=col>&lt;dbl&gt;<\/th><\/tr>\n",
       "<\/thead>\n",
       "<tbody>\n",
       "\t<tr><td>Newark Liberty Intl<\/td><td>La Guardia   <\/td><td>  17<\/td><\/tr>\n",
       "\t<tr><td>John F Kennedy Intl<\/td><td>Honolulu Intl<\/td><td>4983<\/td><\/tr>\n",
       "<\/tbody>\n",
       "<\/table>\n"
      ]
     },
     "metadata":{
      
     },
     "output_type":"display_data"
    }
   ],
   "metadata":{
    "datalore":{
     "node_id":"xhqUIqSJSwKeEFrArWL9SO",
     "type":"CODE",
     "hide_input_from_viewers":false,
     "hide_output_from_viewers":false,
     "report_properties":{
      
     }
    }
   }
  },
  {
   "cell_type":"markdown",
   "source":[
    "# Q3: What are carriers that depart and arrive on time in (not delayed) 2013?"
   ],
   "attachments":{
    
   },
   "metadata":{
    "datalore":{
     "node_id":"Hzx1fWeHQmE6dMJCi0iUhh",
     "type":"MD",
     "hide_input_from_viewers":false,
     "hide_output_from_viewers":false,
     "report_properties":{
      
     }
    }
   }
  },
  {
   "cell_type":"code",
   "source":[
    "carrier_delay <- flights  %>%\n",
    "  filter(month == 7 & year == 2013 & day == 8) %>%\n",
    "  filter(arr_delay > 0) %>%\n",
    "  count(carrier) %>%\n",
    "  arrange(desc(n)) %>%\n",
    "  left_join(airlines, by = \"carrier\")\n",
    "\n",
    "carrier_delay %>%\n",
    "  select(carrier, name, n) %>%\n",
    "  rename(carrier_full_name = name,\n",
    "         n_flights = n) \n",
    "         "
   ],
   "execution_count":10,
   "outputs":[
    {
     "data":{
      "text\/html":[
       "<table class=\"dataframe\">\n",
       "<caption>A tibble: 14 × 3<\/caption>\n",
       "<thead>\n",
       "\t<tr><th scope=col>carrier<\/th><th scope=col>carrier_full_name<\/th><th scope=col>n_flights<\/th><\/tr>\n",
       "\t<tr><th scope=col>&lt;chr&gt;<\/th><th scope=col>&lt;chr&gt;<\/th><th scope=col>&lt;int&gt;<\/th><\/tr>\n",
       "<\/thead>\n",
       "<tbody>\n",
       "\t<tr><td>B6<\/td><td>JetBlue Airways            <\/td><td>103<\/td><\/tr>\n",
       "\t<tr><td>EV<\/td><td>ExpressJet Airlines Inc.   <\/td><td> 96<\/td><\/tr>\n",
       "\t<tr><td>UA<\/td><td>United Air Lines Inc.      <\/td><td> 92<\/td><\/tr>\n",
       "\t<tr><td>DL<\/td><td>Delta Air Lines Inc.       <\/td><td> 65<\/td><\/tr>\n",
       "\t<tr><td>MQ<\/td><td>Envoy Air                  <\/td><td> 50<\/td><\/tr>\n",
       "\t<tr><td>AA<\/td><td>American Airlines Inc.     <\/td><td> 33<\/td><\/tr>\n",
       "\t<tr><td>9E<\/td><td>Endeavor Air Inc.          <\/td><td> 32<\/td><\/tr>\n",
       "\t<tr><td>US<\/td><td>US Airways Inc.            <\/td><td> 32<\/td><\/tr>\n",
       "\t<tr><td>WN<\/td><td>Southwest Airlines Co.     <\/td><td> 23<\/td><\/tr>\n",
       "\t<tr><td>VX<\/td><td>Virgin America             <\/td><td> 12<\/td><\/tr>\n",
       "\t<tr><td>FL<\/td><td>AirTran Airways Corporation<\/td><td>  4<\/td><\/tr>\n",
       "\t<tr><td>AS<\/td><td>Alaska Airlines Inc.       <\/td><td>  1<\/td><\/tr>\n",
       "\t<tr><td>F9<\/td><td>Frontier Airlines Inc.     <\/td><td>  1<\/td><\/tr>\n",
       "\t<tr><td>YV<\/td><td>Mesa Airlines Inc.         <\/td><td>  1<\/td><\/tr>\n",
       "<\/tbody>\n",
       "<\/table>\n"
      ]
     },
     "metadata":{
      
     },
     "output_type":"display_data"
    }
   ],
   "metadata":{
    "datalore":{
     "node_id":"wQwEYQKLHjWkFOOhGMpdGW",
     "type":"CODE",
     "hide_input_from_viewers":false,
     "hide_output_from_viewers":false,
     "report_properties":{
      
     }
    }
   }
  },
  {
   "cell_type":"markdown",
   "source":[
    "# Q4: What's carriers depart on time at 12.00 P.M. (not delayed) Jan 2013?"
   ],
   "attachments":{
    
   },
   "metadata":{
    "datalore":{
     "node_id":"lkDFLi7X5XeGTriJrhxvzT",
     "type":"MD",
     "hide_input_from_viewers":false,
     "hide_output_from_viewers":false,
     "report_properties":{
      
     }
    }
   }
  },
  {
   "cell_type":"code",
   "source":[
    "df <- flights %>%\n",
    "  filter(month == 1,\n",
    "         year == 2013,\n",
    "         sched_dep_time == 1200,\n",
    "         dep_delay == 0) %>%\n",
    "  select(carrier, year, month, day, dep_time, dep_delay, arr_time, sched_arr_time, arr_delay)  %>%\n",
    "  left_join(airlines, by = \"carrier\")\n",
    "\n",
    "df %>%\n",
    "    select(carrier, name, year, month, day, dep_time, dep_delay, arr_time, sched_arr_time, arr_delay) %>%\n",
    "    rename(carrier_full_name = name)"
   ],
   "execution_count":11,
   "outputs":[
    {
     "data":{
      "text\/html":[
       "<table class=\"dataframe\">\n",
       "<caption>A tibble: 9 × 10<\/caption>\n",
       "<thead>\n",
       "\t<tr><th scope=col>carrier<\/th><th scope=col>carrier_full_name<\/th><th scope=col>year<\/th><th scope=col>month<\/th><th scope=col>day<\/th><th scope=col>dep_time<\/th><th scope=col>dep_delay<\/th><th scope=col>arr_time<\/th><th scope=col>sched_arr_time<\/th><th scope=col>arr_delay<\/th><\/tr>\n",
       "\t<tr><th scope=col>&lt;chr&gt;<\/th><th scope=col>&lt;chr&gt;<\/th><th scope=col>&lt;int&gt;<\/th><th scope=col>&lt;int&gt;<\/th><th scope=col>&lt;int&gt;<\/th><th scope=col>&lt;int&gt;<\/th><th scope=col>&lt;dbl&gt;<\/th><th scope=col>&lt;int&gt;<\/th><th scope=col>&lt;int&gt;<\/th><th scope=col>&lt;dbl&gt;<\/th><\/tr>\n",
       "<\/thead>\n",
       "<tbody>\n",
       "\t<tr><td>US<\/td><td>US Airways Inc.      <\/td><td>2013<\/td><td>1<\/td><td> 1<\/td><td>1200<\/td><td>0<\/td><td>1408<\/td><td>1356<\/td><td> 12<\/td><\/tr>\n",
       "\t<tr><td>UA<\/td><td>United Air Lines Inc.<\/td><td>2013<\/td><td>1<\/td><td> 2<\/td><td>1200<\/td><td>0<\/td><td>1513<\/td><td>1505<\/td><td>  8<\/td><\/tr>\n",
       "\t<tr><td>UA<\/td><td>United Air Lines Inc.<\/td><td>2013<\/td><td>1<\/td><td> 5<\/td><td>1200<\/td><td>0<\/td><td>1517<\/td><td>1459<\/td><td> 18<\/td><\/tr>\n",
       "\t<tr><td>UA<\/td><td>United Air Lines Inc.<\/td><td>2013<\/td><td>1<\/td><td> 6<\/td><td>1200<\/td><td>0<\/td><td>1514<\/td><td>1529<\/td><td>-15<\/td><\/tr>\n",
       "\t<tr><td>US<\/td><td>US Airways Inc.      <\/td><td>2013<\/td><td>1<\/td><td> 7<\/td><td>1200<\/td><td>0<\/td><td>1352<\/td><td>1400<\/td><td> -8<\/td><\/tr>\n",
       "\t<tr><td>DL<\/td><td>Delta Air Lines Inc. <\/td><td>2013<\/td><td>1<\/td><td>14<\/td><td>1200<\/td><td>0<\/td><td>1533<\/td><td>1529<\/td><td>  4<\/td><\/tr>\n",
       "\t<tr><td>MQ<\/td><td>Envoy Air            <\/td><td>2013<\/td><td>1<\/td><td>17<\/td><td>1200<\/td><td>0<\/td><td>1320<\/td><td>1315<\/td><td>  5<\/td><\/tr>\n",
       "\t<tr><td>MQ<\/td><td>Envoy Air            <\/td><td>2013<\/td><td>1<\/td><td>17<\/td><td>1200<\/td><td>0<\/td><td>1447<\/td><td>1430<\/td><td> 17<\/td><\/tr>\n",
       "\t<tr><td>MQ<\/td><td>Envoy Air            <\/td><td>2013<\/td><td>1<\/td><td>18<\/td><td>1200<\/td><td>0<\/td><td>1331<\/td><td>1330<\/td><td>  1<\/td><\/tr>\n",
       "<\/tbody>\n",
       "<\/table>\n"
      ]
     },
     "metadata":{
      
     },
     "output_type":"display_data"
    }
   ],
   "metadata":{
    "datalore":{
     "node_id":"SZQbcmWcD1xLUKY4KT7TyZ",
     "type":"CODE",
     "hide_input_from_viewers":false,
     "hide_output_from_viewers":false,
     "report_properties":{
      
     }
    }
   }
  },
  {
   "cell_type":"markdown",
   "source":[
    "# Q5: Top 5 Destinations, most flights arriving on Christmas day?"
   ],
   "attachments":{
    
   },
   "metadata":{
    "datalore":{
     "node_id":"knwYvXkiklwibBOfoY8OIE",
     "type":"MD",
     "hide_input_from_viewers":false,
     "hide_output_from_viewers":false,
     "report_properties":{
      
     }
    }
   }
  },
  {
   "cell_type":"code",
   "source":[
    "most_arrive_dest <- flights %>%\n",
    "  filter(month == 12,\n",
    "         year == 2013,\n",
    "         day == 25) %>%\n",
    "  count(dest) %>%\n",
    "  arrange(desc(n)) %>%\n",
    "  left_join(airports, by = c(\"dest\" = \"faa\" )) \n",
    "\n",
    "most_arrive_dest %>%\n",
    "  select(dest, name, n) %>%\n",
    "  rename(dest_full_name = name,\n",
    "         n_flights = n) %>%\n",
    "         head(5)"
   ],
   "execution_count":12,
   "outputs":[
    {
     "data":{
      "text\/html":[
       "<table class=\"dataframe\">\n",
       "<caption>A tibble: 5 × 3<\/caption>\n",
       "<thead>\n",
       "\t<tr><th scope=col>dest<\/th><th scope=col>dest_full_name<\/th><th scope=col>n_flights<\/th><\/tr>\n",
       "\t<tr><th scope=col>&lt;chr&gt;<\/th><th scope=col>&lt;chr&gt;<\/th><th scope=col>&lt;int&gt;<\/th><\/tr>\n",
       "<\/thead>\n",
       "<tbody>\n",
       "\t<tr><td>MCO<\/td><td>Orlando Intl                   <\/td><td>41<\/td><\/tr>\n",
       "\t<tr><td>FLL<\/td><td>Fort Lauderdale Hollywood Intl <\/td><td>39<\/td><\/tr>\n",
       "\t<tr><td>ATL<\/td><td>Hartsfield Jackson Atlanta Intl<\/td><td>37<\/td><\/tr>\n",
       "\t<tr><td>LAX<\/td><td>Los Angeles Intl               <\/td><td>36<\/td><\/tr>\n",
       "\t<tr><td>CLT<\/td><td>Charlotte Douglas Intl         <\/td><td>32<\/td><\/tr>\n",
       "<\/tbody>\n",
       "<\/table>\n"
      ]
     },
     "metadata":{
      
     },
     "output_type":"display_data"
    }
   ],
   "metadata":{
    "datalore":{
     "node_id":"UfYGjEfrVxcAUNQR0kHftJ",
     "type":"CODE",
     "hide_input_from_viewers":false,
     "hide_output_from_viewers":false,
     "report_properties":{
      
     }
    }
   }
  },
  {
   "cell_type":"markdown",
   "source":[
    "# RPostgreSQL"
   ],
   "attachments":{
    
   },
   "metadata":{
    "datalore":{
     "node_id":"JyPiZjleme8NBdnyFyZEEc",
     "type":"MD",
     "hide_input_from_viewers":false,
     "hide_output_from_viewers":false,
     "report_properties":{
      
     }
    }
   }
  },
  {
   "cell_type":"markdown",
   "source":[
    "# Install package and Load library"
   ],
   "attachments":{
    
   },
   "metadata":{
    "datalore":{
     "node_id":"uXhMZuLcBqFxpR5qGKl4Ah",
     "type":"MD",
     "hide_input_from_viewers":false,
     "hide_output_from_viewers":false,
     "report_properties":{
      
     }
    }
   }
  },
  {
   "cell_type":"code",
   "source":[
    "install.packages(\"RPostgreSQL\")"
   ],
   "execution_count":8,
   "outputs":[
    {
     "name":"stderr",
     "text":[
      "Warning message in install.packages(\"RPostgreSQL\"):\n",
      "“installation of package ‘RPostgreSQL’ had non-zero exit status”\n",
      "Updating HTML index of packages in '.Library'\n",
      "\n",
      "Making 'packages.html' ...\n",
      " done\n",
      "\n"
     ],
     "output_type":"stream"
    }
   ],
   "metadata":{
    "datalore":{
     "node_id":"AtiYOIfge6Fh9hqKzEiEuM",
     "type":"CODE",
     "hide_input_from_viewers":false,
     "hide_output_from_viewers":false,
     "report_properties":{
      
     }
    }
   }
  },
  {
   "cell_type":"code",
   "source":[
    "library(RPostgreSQL)"
   ],
   "execution_count":9,
   "outputs":[
    {
     "ename":"ERROR",
     "evalue":"ERROR: Error in library(RPostgreSQL): there is no package called ‘RPostgreSQL’\n",
     "traceback":[
      "\u001b[0;31m---------------------------------------------------------------------------",
      "Traceback (most recent call last)",
      "ERROR: Error in library(RPostgreSQL): there is no package called ‘RPostgreSQL’\n"
     ],
     "output_type":"error"
    }
   ],
   "metadata":{
    "datalore":{
     "node_id":"8GUuASmzjsJ3Cp40cUbXpC",
     "type":"CODE",
     "hide_input_from_viewers":false,
     "hide_output_from_viewers":false,
     "report_properties":{
      
     }
    }
   }
  },
  {
   "cell_type":"markdown",
   "source":[
    "# connect server"
   ],
   "attachments":{
    
   },
   "metadata":{
    "datalore":{
     "node_id":"9xZVjAZBHI3GPduo6VENeh",
     "type":"MD",
     "hide_input_from_viewers":false,
     "hide_output_from_viewers":false,
     "report_properties":{
      
     }
    }
   }
  },
  {
   "cell_type":"code",
   "source":[
    "con <- dbConnect(\n",
    "  PostgreSQL(),\n",
    "  host = \"arjuna.db.elephantsql.com\",\n",
    "  dbname = \"osrwijbi\",\n",
    "  port = 5432,\n",
    "  user = \"osrwijbi\",\n",
    "  password = \"UZ4k6gUoBSJwhc8wT1k0xtyKXSmBNHBO\"\n",
    ")"
   ],
   "execution_count":10,
   "outputs":[
    {
     "ename":"ERROR",
     "evalue":"ERROR: Error in dbConnect(PostgreSQL(), host = \"arjuna.db.elephantsql.com\", dbname = \"osrwijbi\", : could not find function \"dbConnect\"\n",
     "traceback":[
      "\u001b[0;31m---------------------------------------------------------------------------",
      "Traceback (most recent call last)",
      "ERROR: Error in dbConnect(PostgreSQL(), host = \"arjuna.db.elephantsql.com\", dbname = \"osrwijbi\", : could not find function \"dbConnect\"\n"
     ],
     "output_type":"error"
    }
   ],
   "metadata":{
    "datalore":{
     "node_id":"HKOapTzooNbykJb24Xp7l5",
     "type":"CODE",
     "hide_input_from_viewers":false,
     "hide_output_from_viewers":false,
     "report_properties":{
      
     }
    }
   }
  },
  {
   "cell_type":"markdown",
   "source":[
    "## Check List Table in server"
   ],
   "attachments":{
    
   },
   "metadata":{
    "datalore":{
     "node_id":"mrfxSHzb29KPUTSKJxYnND",
     "type":"MD",
     "hide_input_from_viewers":false,
     "hide_output_from_viewers":false,
     "report_properties":{
      
     }
    }
   }
  },
  {
   "cell_type":"code",
   "source":[
    "dbListTables(con)"
   ],
   "execution_count":null,
   "outputs":[
    
   ],
   "metadata":{
    "datalore":{
     "node_id":"ipAYYefRrEF0iT1rjhw4YH",
     "type":"CODE",
     "hide_input_from_viewers":false,
     "hide_output_from_viewers":false,
     "report_properties":{
      
     }
    }
   }
  },
  {
   "cell_type":"markdown",
   "source":[
    "## Create dataframe"
   ],
   "attachments":{
    
   },
   "metadata":{
    "datalore":{
     "node_id":"CEMSMkUdhDbNRYOoMCdpiX",
     "type":"MD",
     "hide_input_from_viewers":false,
     "hide_output_from_viewers":false,
     "report_properties":{
      
     }
    }
   }
  },
  {
   "cell_type":"code",
   "source":[
    "friends_football <- data.frame(\n",
    "  id = 1:5,\n",
    "  friends_names = c(\"Elsa\", \"Tham\", \"Poom\", \"Sotus\", \"Tar\"),\n",
    "  fav_team_football = c(\"ManU\", \"Arsenal\", \"Arsenal\", \"Liverpool\", \"Liverpool\")\n",
    ")"
   ],
   "execution_count":null,
   "outputs":[
    
   ],
   "metadata":{
    "datalore":{
     "node_id":"jMZhpdytsNX5xslsdES9Cy",
     "type":"CODE",
     "hide_input_from_viewers":false,
     "hide_output_from_viewers":false,
     "report_properties":{
      
     }
    }
   }
  },
  {
   "cell_type":"markdown",
   "source":[
    "## Save data"
   ],
   "attachments":{
    
   },
   "metadata":{
    "datalore":{
     "node_id":"n7oqei5sEDPGvla25RUJDd",
     "type":"MD",
     "hide_input_from_viewers":false,
     "hide_output_from_viewers":false,
     "report_properties":{
      
     }
    }
   }
  },
  {
   "cell_type":"code",
   "source":[
    "dbWriteTable(con, \"favorit_team_my_friends\", friends_football)"
   ],
   "execution_count":null,
   "outputs":[
    
   ],
   "metadata":{
    "datalore":{
     "node_id":"ssIMdgEvWctWvifIQ1w3Mo",
     "type":"CODE",
     "hide_input_from_viewers":false,
     "hide_output_from_viewers":false,
     "report_properties":{
      
     }
    }
   }
  },
  {
   "cell_type":"markdown",
   "source":[
    "## Get data from sever"
   ],
   "attachments":{
    
   },
   "metadata":{
    "datalore":{
     "node_id":"TK5EpTroIYdt592iCPn7kH",
     "type":"MD",
     "hide_input_from_viewers":false,
     "hide_output_from_viewers":false,
     "report_properties":{
      
     }
    }
   }
  },
  {
   "cell_type":"code",
   "source":[
    "df <- dbGetQuery(con, \"SELECT * FROM favorit_team_my_friends\")"
   ],
   "execution_count":null,
   "outputs":[
    
   ],
   "metadata":{
    "datalore":{
     "node_id":"lkOciUP74sSz2oOqIBDh59",
     "type":"CODE",
     "hide_input_from_viewers":false,
     "hide_output_from_viewers":false,
     "report_properties":{
      
     }
    }
   }
  },
  {
   "cell_type":"markdown",
   "source":[
    "## Close connection"
   ],
   "attachments":{
    
   },
   "metadata":{
    "datalore":{
     "node_id":"0pRA6hMPmKrKE4EcMK1av0",
     "type":"MD",
     "hide_input_from_viewers":false,
     "hide_output_from_viewers":false,
     "report_properties":{
      
     }
    }
   }
  },
  {
   "cell_type":"code",
   "source":[
    "dbDisconnect(con)"
   ],
   "execution_count":null,
   "outputs":[
    
   ],
   "metadata":{
    "datalore":{
     "node_id":"zrIx8y7t995KEQ810XtGq9",
     "type":"CODE",
     "hide_input_from_viewers":false,
     "hide_output_from_viewers":false,
     "report_properties":{
      
     }
    }
   }
  }
 ],
 "metadata":{
  "kernelspec":{
   "display_name":"R",
   "language":"r",
   "name":"ir"
  },
  "datalore":{
   "version":1,
   "computation_mode":"JUPYTER",
   "package_manager":"conda",
   "base_environment":"minimal",
   "packages":[
    
   ]
  }
 },
 "nbformat":4,
 "nbformat_minor":4
}